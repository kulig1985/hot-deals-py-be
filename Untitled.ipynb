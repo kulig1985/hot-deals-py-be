{
 "cells": [
  {
   "cell_type": "code",
   "execution_count": 58,
   "id": "4e997030",
   "metadata": {},
   "outputs": [],
   "source": [
    "import requests # request img from web\n",
    "import shutil # save img locally\n",
    "import urllib.request\n",
    "import uuid"
   ]
  },
  {
   "cell_type": "code",
   "execution_count": 30,
   "id": "1a9abf2a",
   "metadata": {},
   "outputs": [],
   "source": [
    "url = 'https://hu.cat-ret.assets.lidl/catalog5media/hu/article/346449/xs/346449.jpg'"
   ]
  },
  {
   "cell_type": "code",
   "execution_count": 31,
   "id": "c7be1b18",
   "metadata": {},
   "outputs": [],
   "source": [
    "url_aldi = 'https://s7g10.scene7.com/is/image/aldi/KW32_02_Csutortok_szombat_17'"
   ]
  },
  {
   "cell_type": "code",
   "execution_count": 22,
   "id": "d12b5ecd",
   "metadata": {},
   "outputs": [
    {
     "data": {
      "text/plain": [
       "'346449.jpg'"
      ]
     },
     "execution_count": 22,
     "metadata": {},
     "output_type": "execute_result"
    }
   ],
   "source": [
    "#url.split('/')[-1]"
   ]
  },
  {
   "cell_type": "code",
   "execution_count": 35,
   "id": "a0f2aad9",
   "metadata": {},
   "outputs": [],
   "source": [
    "res = requests.get(url)"
   ]
  },
  {
   "cell_type": "code",
   "execution_count": 40,
   "id": "b245760b",
   "metadata": {},
   "outputs": [
    {
     "data": {
      "text/plain": [
       "'jpeg'"
      ]
     },
     "execution_count": 40,
     "metadata": {},
     "output_type": "execute_result"
    }
   ],
   "source": [
    "res.headers['Content-Type'][res.headers['Content-Type'].find('/')+1:]"
   ]
  },
  {
   "cell_type": "code",
   "execution_count": 41,
   "id": "3659e9cd",
   "metadata": {},
   "outputs": [],
   "source": [
    "auchan = 'https://ahuazurewebblob0.azureedge.net/auchan/cache/product_medium/product/7392287/01_151251751_front_85163943.png'"
   ]
  },
  {
   "cell_type": "code",
   "execution_count": 42,
   "id": "f50c44e8",
   "metadata": {},
   "outputs": [],
   "source": [
    "res = requests.get(auchan)"
   ]
  },
  {
   "cell_type": "code",
   "execution_count": 43,
   "id": "22808ec4",
   "metadata": {},
   "outputs": [
    {
     "data": {
      "text/plain": [
       "'plain'"
      ]
     },
     "execution_count": 43,
     "metadata": {},
     "output_type": "execute_result"
    }
   ],
   "source": [
    "res.headers['Content-Type'][res.headers['Content-Type'].find('/')+1:]"
   ]
  },
  {
   "cell_type": "code",
   "execution_count": 44,
   "id": "8dfecafd",
   "metadata": {},
   "outputs": [
    {
     "data": {
      "text/plain": [
       "{'Content-Type': 'text/plain', 'Last-Modified': 'Thu, 16 Sep 2021 09:53:43 GMT', 'ETag': '0x8D978F7DE8C88BF', 'Server': 'Windows-Azure-Blob/1.0 Microsoft-HTTPAPI/2.0', 'x-ms-request-id': '08ad3f11-701e-0088-77cc-a0783f000000', 'x-ms-version': '2009-09-19', 'x-ms-lease-status': 'unlocked', 'x-ms-blob-type': 'BlockBlob', 'Vary': 'Accept-Encoding', 'Content-Encoding': 'gzip', 'Content-Length': '180191', 'Cache-Control': 'public, max-age=6395292', 'Date': 'Fri, 12 Aug 2022 15:58:25 GMT', 'Connection': 'keep-alive'}"
      ]
     },
     "execution_count": 44,
     "metadata": {},
     "output_type": "execute_result"
    }
   ],
   "source": [
    "res.headers"
   ]
  },
  {
   "cell_type": "code",
   "execution_count": 45,
   "id": "7c060679",
   "metadata": {},
   "outputs": [
    {
     "data": {
      "text/plain": [
       "('local-filename_auchan.png', <http.client.HTTPMessage at 0x7faf90510250>)"
      ]
     },
     "execution_count": 45,
     "metadata": {},
     "output_type": "execute_result"
    }
   ],
   "source": [
    "urllib.request.urlretrieve(auchan , \"local-filename_auchan.png\")"
   ]
  },
  {
   "cell_type": "code",
   "execution_count": 61,
   "id": "1f5856af",
   "metadata": {},
   "outputs": [],
   "source": [
    "uuid_image = uuid.uuid1()"
   ]
  },
  {
   "cell_type": "code",
   "execution_count": 63,
   "id": "509cb155",
   "metadata": {},
   "outputs": [
    {
     "data": {
      "text/plain": [
       "'8184d22a-1a58-11ed-bff9-9af8cc858e72.png'"
      ]
     },
     "execution_count": 63,
     "metadata": {},
     "output_type": "execute_result"
    }
   ],
   "source": [
    "str(uuid_image) + '.png'"
   ]
  },
  {
   "cell_type": "code",
   "execution_count": 65,
   "id": "736df3f8",
   "metadata": {},
   "outputs": [],
   "source": [
    "import os"
   ]
  },
  {
   "cell_type": "code",
   "execution_count": 66,
   "id": "e3e1e78a",
   "metadata": {},
   "outputs": [],
   "source": [
    "dir = '/Users/kuligabor/Documents/HotDealsHungary/img'\n",
    "for f in os.listdir(dir):\n",
    "    os.remove(os.path.join(dir, f))"
   ]
  },
  {
   "cell_type": "code",
   "execution_count": 67,
   "id": "cc77bfc7",
   "metadata": {},
   "outputs": [],
   "source": [
    "import random"
   ]
  },
  {
   "cell_type": "code",
   "execution_count": 71,
   "id": "be92d1e9",
   "metadata": {},
   "outputs": [
    {
     "data": {
      "text/plain": [
       "3"
      ]
     },
     "execution_count": 71,
     "metadata": {},
     "output_type": "execute_result"
    }
   ],
   "source": [
    "random.randint(0,4)"
   ]
  },
  {
   "cell_type": "code",
   "execution_count": null,
   "id": "9919ecb9",
   "metadata": {},
   "outputs": [],
   "source": []
  },
  {
   "cell_type": "code",
   "execution_count": null,
   "id": "8d223d31",
   "metadata": {},
   "outputs": [],
   "source": []
  }
 ],
 "metadata": {
  "kernelspec": {
   "display_name": "Python 3 (ipykernel)",
   "language": "python",
   "name": "python3"
  },
  "language_info": {
   "codemirror_mode": {
    "name": "ipython",
    "version": 3
   },
   "file_extension": ".py",
   "mimetype": "text/x-python",
   "name": "python",
   "nbconvert_exporter": "python",
   "pygments_lexer": "ipython3",
   "version": "3.9.7"
  }
 },
 "nbformat": 4,
 "nbformat_minor": 5
}
