{
 "cells": [
  {
   "cell_type": "code",
   "execution_count": 3,
   "id": "b8e7746b",
   "metadata": {},
   "outputs": [],
   "source": [
    "#!pip install firebase_admin"
   ]
  },
  {
   "cell_type": "code",
   "execution_count": 10,
   "id": "16764e7b",
   "metadata": {},
   "outputs": [],
   "source": [
    "from firebase_admin import auth\n",
    "from firebase_admin import credentials\n",
    "import firebase_admin"
   ]
  },
  {
   "cell_type": "code",
   "execution_count": 11,
   "id": "0d5e2db9",
   "metadata": {},
   "outputs": [
    {
     "data": {
      "text/plain": [
       "<firebase_admin.App at 0x7fa8d9754c10>"
      ]
     },
     "execution_count": 11,
     "metadata": {},
     "output_type": "execute_result"
    }
   ],
   "source": [
    "cred = credentials.Certificate('/Users/kuligabor/Documents/HotDealsHungary/hot-deals-hungary-firebase-adminsdk-d3h2t-b6efda5dc6.json')\n",
    "firebase_admin.initialize_app(cred)"
   ]
  },
  {
   "cell_type": "code",
   "execution_count": 17,
   "id": "78170200",
   "metadata": {},
   "outputs": [
    {
     "name": "stdout",
     "output_type": "stream",
     "text": [
      "User: Kuli Gábor\n",
      "User: prQUKkIxljVqbHlCKah7T1Rh7l22\n"
     ]
    }
   ],
   "source": [
    "page = auth.list_users()\n",
    "\n",
    "# Iterate through all users. This will still retrieve users in batches,\n",
    "# buffering no more than 1000 users in memory at a time.\n",
    "for user in auth.list_users().iterate_all():\n",
    "    print('User: ' + user.display_name)\n",
    "    print('User: ' + user.uid)"
   ]
  },
  {
   "cell_type": "code",
   "execution_count": 20,
   "id": "05231d07",
   "metadata": {},
   "outputs": [
    {
     "ename": "SyntaxError",
     "evalue": "invalid syntax (1160862486.py, line 1)",
     "output_type": "error",
     "traceback": [
      "\u001b[0;36m  File \u001b[0;32m\"/var/folders/c0/h6vkq2vn7h95_l8mlxd7qtrh0000gn/T/ipykernel_87642/1160862486.py\"\u001b[0;36m, line \u001b[0;32m1\u001b[0m\n\u001b[0;31m    valami = ('1' : 'teszt', '1': 123)\u001b[0m\n\u001b[0m                  ^\u001b[0m\n\u001b[0;31mSyntaxError\u001b[0m\u001b[0;31m:\u001b[0m invalid syntax\n"
     ]
    }
   ],
   "source": [
    "valami = ('1' : 'teszt', '1': 123)"
   ]
  },
  {
   "cell_type": "code",
   "execution_count": 19,
   "id": "6be4fe91",
   "metadata": {},
   "outputs": [
    {
     "data": {
      "text/plain": [
       "{'1': 123}"
      ]
     },
     "execution_count": 19,
     "metadata": {},
     "output_type": "execute_result"
    }
   ],
   "source": [
    "valami"
   ]
  },
  {
   "cell_type": "code",
   "execution_count": null,
   "id": "e28c0f6a",
   "metadata": {},
   "outputs": [],
   "source": []
  }
 ],
 "metadata": {
  "kernelspec": {
   "display_name": "Python 3 (ipykernel)",
   "language": "python",
   "name": "python3"
  },
  "language_info": {
   "codemirror_mode": {
    "name": "ipython",
    "version": 3
   },
   "file_extension": ".py",
   "mimetype": "text/x-python",
   "name": "python",
   "nbconvert_exporter": "python",
   "pygments_lexer": "ipython3",
   "version": "3.9.7"
  }
 },
 "nbformat": 4,
 "nbformat_minor": 5
}
